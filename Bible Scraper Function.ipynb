{
 "cells": [
  {
   "cell_type": "code",
   "execution_count": 11,
   "metadata": {},
   "outputs": [],
   "source": [
    "import pandas as pd\n",
    "import requests \n",
    "from urllib.request import Request, urlopen\n",
    "from bs4 import BeautifulSoup\n",
    "import urllib.request"
   ]
  },
  {
   "cell_type": "code",
   "execution_count": 12,
   "metadata": {},
   "outputs": [],
   "source": [
    "def get_chapter_verses(chapter_list, book):\n",
    "    text = str()\n",
    "    \n",
    "    for c in chapter_list:\n",
    "    \n",
    "        site= \"https://www.biblestudytools.com/bbe/{}/\".format(book) + \"{}.html\".format(c)\n",
    "        hdr = {'User-Agent': 'Mozilla/5.0'}\n",
    "        req = Request(site,headers=hdr)\n",
    "        page = urlopen(req)\n",
    "        soup = BeautifulSoup(page)\n",
    "        verses = soup.findAll('div', {\"class\": \"verse font-small\"})\n",
    "    \n",
    "        for v in verses:\n",
    "        \n",
    "            if len(text) == 0:\n",
    "        \n",
    "                text += str(v.text).strip()\n",
    "    \n",
    "            else:\n",
    "                text += ' ' + str(v.text).strip()\n",
    "    \n",
    "    text = text.replace('\\n\\r\\n', '')\n",
    "    \n",
    "    for n in range(1, 6):\n",
    "        text = text.replace('  ', ' ')\n",
    "        \n",
    "    return text"
   ]
  },
  {
   "cell_type": "code",
   "execution_count": 13,
   "metadata": {},
   "outputs": [],
   "source": [
    "text = get_chapter_verses([6, 7, 8], 'genesis')"
   ]
  },
  {
   "cell_type": "code",
   "execution_count": 14,
   "metadata": {},
   "outputs": [
    {
     "data": {
      "text/plain": [
       "\"1 And after a time, when men were increasing on the earth, and had daughters, 2 The sons of God saw that the daughters of men were fair; and they took wives for themselves from those who were pleasing to them. 3 And the Lord said, My spirit will not be in man for ever, for he is only flesh; so the days of his life will be a hundred and twenty years. 4 There were men of great strength and size on the earth in those days; and after that, when the sons of God had connection with the daughters of men, they gave birth to children: these were the great men of old days, the men of great name. 5 And the Lord saw that the sin of man was great on the earth, and that all the thoughts of his heart were evil. 6 And the Lord had sorrow because he had made man on the earth, and grief was in his heart. 7 And the Lord said, I will take away man, whom I have made, from the face of the earth, even man and beast and that which goes on the earth and every bird of the air; for I have sorrow for having made them. 8 But Noah had grace in the eyes of God. 9 These are the generations of Noah. Noah was an upright man and without sin in his generation: he went in the ways of God. 10 And Noah had three sons, Shem, Ham, and Japheth. 11 And the earth was evil in God's eyes and full of violent ways. 12 And God, looking on the earth, saw that it was evil: for the way of all flesh had become evil on the earth. 13 And God said to Noah, The end of all flesh has come; the earth is full of their violent doings, and now I will put an end to them with the earth. 14 Make for yourself an ark of gopher wood with rooms in it, and make it safe from the water inside and out. 15 And this is the way you are to make it: it is to be three hundred cubits long, fifty cubits wide, and thirty cubits high. 16 You are to put a window in the ark, a cubit from the roof, and a door in the side of it, and you are to make it with a lower and second and third floors. 17 For truly, I will send a great flow of waters over the earth, for the destruction from under the heaven of all flesh in which is the breath of life; everything on the earth will come to an end. 18 But with you I will make an agreement; and you will come into the ark, you and your sons and your wife and your sons' wives with you. 19 And you will take with you into the ark two of every sort of living thing, and keep them safe with you; they will be male and female. 20 Two of every sort of bird and cattle and of every sort of living thing which goes on the earth will you take with you to keep them from destruction. 21 And make a store of every sort of food for yourself and them. 22 And all these things Noah did; as God said, so he did. 1 And the Lord said to Noah, Take all your family and go into the ark, for you only in this generation have I seen to be upright. 2 Of every clean beast you will take seven males and seven females, and of the beasts which are not clean, two, the male and his female; 3 And of the birds of the air, seven males and seven females, so that their seed may still be living on the face of the earth. 4 For after seven days I will send rain on the earth for forty days and forty nights, for the destruction of every living thing which I have made on the face of the earth. 5 And Noah did everything which the Lord said he was to do. 6 And Noah was six hundred years old when the waters came flowing over all the earth. 7 And Noah, with his sons and his wife and his sons' wives, went into the ark because of the flowing of the waters. 8 Of clean beasts, and of beasts which are not clean, and of birds, and of everything which goes on the earth, 9 In twos, male and female, they went into the ark with Noah, as God had said. 10 And after the seven days, the waters came over all the earth. 11 In the six hundredth year of Noah's life, in the second month, on the seventeenth day of the month, all the fountains of the great deep came bursting through, and the windows of heaven were open; 12 And rain came down on the earth for forty days and forty nights. 13 On the same day Noah, with Shem, Ham, and Japheth, his sons, and his wife and his sons' wives, went into the ark; 14 And with them, every sort of beast and cattle, and every sort of thing which goes on the earth, and every sort of bird. 15 They went with Noah into the ark, two and two of all flesh in which is the breath of life. 16 Male and female of all flesh went in, as God had said, and the ark was shut by the Lord. 17 And for forty days the waters were over all the earth; and the waters were increased so that the ark was lifted up high over the earth. 18 And the waters overcame everything and were increased greatly on the earth, and the ark was resting on the face of the waters. 19 And the waters overcame everything on the earth; and all the mountains under heaven were covered. 20 The waters went fifteen cubits higher, till all the mountains were covered. 21 And destruction came on every living thing moving on the earth, birds and cattle and beasts and everything which went on the earth, and every man. 22 Everything on the dry land, in which was the breath of life, came to its end. 23 Every living thing on the face of all the earth, man and cattle and things moving on the face of the earth, and birds of the air, came to destruction: only Noah and those who were with him in the ark, were kept from death. 24 And the waters were over the earth a hundred and fifty days. 1 And God kept Noah in mind, and all the living things and the cattle which were with him in the ark: and God sent a wind over the earth, and the waters went down. 2 And the fountains of the deep and the windows of heaven were shut, and the rain from heaven was stopped. 3 And the waters went slowly back from the earth, and at the end of a hundred and fifty days the waters were lower. 4 And on the seventeenth day of the seventh month the ark came to rest on the mountains of Ararat. 5 And still the waters went on falling, till on the first day of the tenth month the tops of the mountains were seen. 6 Then, after forty days, through the open window of the ark which he had made, 7 Noah sent out a raven, which went this way and that till the waters were gone from the earth. 8 And he sent out a dove, to see if the waters had gone from the face of the earth; 9 But the dove saw no resting-place for her foot, and came back to the ark, for the waters were still over all the earth; and he put out his hand, and took her into the ark. 10 And after waiting another seven days, he sent the dove out again; 11 And the dove came back at evening, and in her mouth was an olive-leaf broken off: so Noah was certain that the waters had gone down on the earth. 12 And after seven days more, he sent the dove out again, but she did not come back to him. 13 And in the six hundred and first year, on the first day of the first month, the waters were dry on the earth: and Noah took the cover off the ark and saw that the face of the earth was dry. 14 And on the twenty-seventh day of the second month the earth was dry. 15 And God said to Noah, 16 Go out of the ark, you and your wife and your sons and your sons' wives. 17 Take out with you every living thing which is with you, birds and cattle and everything which goes on the earth, so that they may have offspring and be fertile and be increased on the earth. 18 And Noah went out with his sons and his wife and his sons' wives; 19 And every beast and bird and every living thing of every sort which goes on the earth, went out of the ark. 20 And Noah made an altar to the Lord, and from every clean beast and bird he made burned offerings on the altar. 21 And when the sweet smell came up to the Lord, he said in his heart, I will not again put a curse on the earth because of man, for the thoughts of man's heart are evil from his earliest days; never again will I send destruction on all living things as I have done. 22 While the earth goes on, seed time and the getting in of the grain, cold and heat, summer and winter, day and night, will not come to an end.\""
      ]
     },
     "execution_count": 14,
     "metadata": {},
     "output_type": "execute_result"
    }
   ],
   "source": [
    "text"
   ]
  }
 ],
 "metadata": {
  "kernelspec": {
   "display_name": "Python 3",
   "language": "python",
   "name": "python3"
  },
  "language_info": {
   "codemirror_mode": {
    "name": "ipython",
    "version": 3
   },
   "file_extension": ".py",
   "mimetype": "text/x-python",
   "name": "python",
   "nbconvert_exporter": "python",
   "pygments_lexer": "ipython3",
   "version": "3.8.5"
  }
 },
 "nbformat": 4,
 "nbformat_minor": 4
}
