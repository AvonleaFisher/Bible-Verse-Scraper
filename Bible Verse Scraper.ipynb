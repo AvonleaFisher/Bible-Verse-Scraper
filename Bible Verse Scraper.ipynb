{
 "cells": [
  {
   "cell_type": "code",
   "execution_count": 1,
   "metadata": {},
   "outputs": [],
   "source": [
    "import pandas as pd\n",
    "import requests \n",
    "from urllib.request import Request, urlopen\n",
    "from bs4 import BeautifulSoup\n",
    "import urllib.request"
   ]
  },
  {
   "cell_type": "code",
   "execution_count": 2,
   "metadata": {},
   "outputs": [],
   "source": [
    "def get_chapters(chapter_list, book):\n",
    "    \n",
    "    text = str()\n",
    "    \n",
    "    for c in chapter_list:\n",
    "    \n",
    "        site= \"https://www.biblestudytools.com/bbe/{}/\".format(book.lower()) + \"{}.html\".format(c)\n",
    "        hdr = {'User-Agent': 'Mozilla/5.0'}\n",
    "        req = Request(site,headers=hdr)\n",
    "        page = urlopen(req)\n",
    "        soup = BeautifulSoup(page)\n",
    "        verses = soup.findAll('div', {\"class\": \"verse font-small\"})\n",
    "        print(site)\n",
    "        for v in verses:\n",
    "        \n",
    "            if len(text) == 0:\n",
    "        \n",
    "                text += str(v.text).strip()\n",
    "    \n",
    "            else:\n",
    "                text += ' ' + str(v.text).strip()\n",
    "    \n",
    "    text = text.replace('\\n\\r\\n', '')\n",
    "    \n",
    "    for n in range(1, 6):\n",
    "        text = text.replace('  ', ' ')\n",
    "        \n",
    "    return text"
   ]
  },
  {
   "cell_type": "code",
   "execution_count": 3,
   "metadata": {},
   "outputs": [
    {
     "name": "stdout",
     "output_type": "stream",
     "text": [
      "https://www.biblestudytools.com/bbe/genesis/1.html\n",
      "https://www.biblestudytools.com/bbe/genesis/2.html\n",
      "https://www.biblestudytools.com/bbe/genesis/3.html\n"
     ]
    }
   ],
   "source": [
    "#Genesis chapters 1-3\n",
    "text = get_chapters([1, 2, 3], 'genesis')"
   ]
  },
  {
   "cell_type": "code",
   "execution_count": 4,
   "metadata": {},
   "outputs": [
    {
     "data": {
      "text/plain": [
       "'1 At the first God made the heaven and the earth. 2 And the earth was waste and without form; and it was dark on the face of the deep: and the Spirit of God was moving on the face of the waters. 3 And God said, Let there be light: and there was light. 4 And God, looking on the light, saw that it was good: and God made a division between the light and the dark, 5 Naming the light, Day, and the dark, Night. And there was evening and there was morning, the first day. 6 And God said, Let there be a solid arch stretching over the waters, parting the waters from the waters. 7 And God made the arch for a division between the waters which were under the arch and those which were over it: and it was so. 8 And God gave the arch the name of Heaven. And there was evening and there was morning, the second day. 9 And God said, Let the waters under the heaven come together in one place, and let the dry land be seen: and it was so. 10 And God gave the dry land the name of Earth; and the waters together in their place were named Seas: and God saw that it was good. 11 And God said, Let grass come up on the earth, and plants producing seed, and fruit-trees giving fruit, in which is their seed, after their sort: and it was so. 12 And grass came up on the earth, and every plant producing seed of its sort, and every tree producing fruit, in which is its seed, of its sort: and God saw that it was good. 13 And there was evening and there was morning, the third day. 14 And God said, Let there be lights in the arch of heaven, for a division between the day and the night, and let them be for signs, and for marking the changes of the year, and for days and for years: 15 And let them be for lights in the arch of heaven to give light on the earth: and it was so. 16 And God made the two great lights: the greater light to be the ruler of the day, and the smaller light to be the ruler of the night: and he made the stars. 17 And God put them in the arch of heaven, to give light on the earth; 18 To have rule over the day and the night, and for a division between the light and the dark: and God saw that it was good. 19 And there was evening and there was morning, the fourth day. 20 And God said, Let the waters be full of living things, and let birds be in flight over the earth under the arch of heaven. 21 And God made great sea-beasts, and every sort of living and moving thing with which the waters were full, and every sort of winged bird: and God saw that it was good. 22 And God gave them his blessing, saying, Be fertile and have increase, making all the waters of the seas full, and let the birds be increased in the earth. 23 And there was evening and there was morning, the fifth day. 24 And God said, Let the earth give birth to all sorts of living things, cattle and all things moving on the earth, and beasts of the earth after their sort: and it was so. 25 And God made the beast of the earth after its sort, and the cattle after their sort, and everything moving on the face of the earth after its sort: and God saw that it was good. 26 And God said, Let us make man in our image, like us: and let him have rule over the fish of the sea and over the birds of the air and over the cattle and over all the earth and over every living thing which goes flat on the earth. 27 And God made man in his image, in the image of God he made him: male and female he made them. 28 And God gave them his blessing and said to them, Be fertile and have increase, and make the earth full and be masters of it; be rulers over the fish of the sea and over the birds of the air and over every living thing moving on the earth. 29 And God said, See, I have given you every plant producing seed, on the face of all the earth, and every tree which has fruit producing seed: they will be for your food: 30 And to every beast of the earth and to every bird of the air and every living thing moving on the face of the earth I have given every green plant for food: and it was so. 31 And God saw everything which he had made and it was very good. And there was evening and there was morning, the sixth day. 1 And the heaven and the earth and all things in them were complete. 2 And on the seventh day God came to the end of all his work; and on the seventh day he took his rest from all the work which he had done. 3 And God gave his blessing to the seventh day and made it holy: because on that day he took his rest from all the work which he had made and done. 4 These are the generations of the heaven and the earth when they were made. 5 In the day when the Lord God made earth and heaven there were no plants of the field on the earth, and no grass had come up: for the Lord God had not sent rain on the earth and there was no man to do work on the land. 6 But a mist went up from the earth, watering all the face of the land. 7 And the Lord God made man from the dust of the earth, breathing into him the breath of life: and man became a living soul. 8 And the Lord God made a garden in the east, in Eden; and there he put the man whom he had made. 9 And out of the earth the Lord made every tree to come, delighting the eye and good for food; and in the middle of the garden, the tree of life and the tree of the knowledge of good and evil. 10 And a river went out of Eden giving water to the garden; and from there it was parted and became four streams. 11 The name of the first is Pishon, which goes round about all the land of Havilah where there is gold. 12 And the gold of that land is good: there is bdellium and the onyx stone. 13 And the name of the second river is Gihon: this river goes round all the land of Cush. 14 And the name of the third river is Tigris, which goes to the east of Assyria. And the fourth river is Euphrates. 15 And the Lord God took the man and put him in the garden of Eden to do work in it and take care of it. 16 And the Lord God gave the man orders, saying, You may freely take of the fruit of every tree of the garden: 17 But of the fruit of the tree of the knowledge of good and evil you may not take; for on the day when you take of it, death will certainly come to you. 18 And the Lord God said, It is not good for the man to be by himself: I will make one like himself as a help to him 19 And from the earth the Lord God made every beast of the field and every bird of the air, and took them to the man to see what names he would give them: and whatever name he gave to any living thing, that was its name. 20 And the man gave names to all cattle and to the birds of the air and to every beast of the field; but Adam had no one like himself as a help. 21 And the Lord God sent a deep sleep on the man, and took one of the bones from his side while he was sleeping, joining up the flesh again in its place: 22 And the bone which the Lord God had taken from the man he made into a woman, and took her to the man. 23 And the man said, This is now bone of my bone and flesh of my flesh: let her name be Woman because she was taken out of Man. 24 For this cause will a man go away from his father and his mother and be joined to his wife; and they will be one flesh. 25 And the man and his wife were without clothing, and they had no sense of shame. 1 Now the snake was wiser than any beast of the field which the Lord God had made. And he said to the woman, Has God truly said that you may not take of the fruit of any tree in the garden? 2 And the woman said, We may take of the fruit of the trees in the garden: 3 But of the fruit of the tree in the middle of the garden, God has said, If you take of it or put your hands on it, death will come to you. 4 And the snake said, Death will not certainly come to you: 5 For God sees that on the day when you take of its fruit, your eyes will be open, and you will be as gods, having knowledge of good and evil. 6 And when the woman saw that the tree was good for food, and a delight to the eyes, and to be desired to make one wise, she took of its fruit, and gave it to her husband. 7 And their eyes were open and they were conscious that they had no clothing and they made themselves coats of leaves stitched together. 8 And there came to them the sound of the Lord God walking in the garden in the evening wind: and the man and his wife went to a secret place among the trees of the garden, away from the eyes of the Lord God. 9 And the voice of the Lord God came to the man, saying, Where are you? 10 And he said, Hearing your voice in the garden I was full of fear, because I was without clothing: and I kept myself from your eyes. 11 And he said, Who gave you the knowledge that you were without clothing? Have you taken of the fruit of the tree which I said you were not to take? 12 And the man said, The woman whom you gave to be with me, she gave me the fruit of the tree and I took it. 13 And the Lord God said to the woman, What have you done? And the woman said, I was tricked by the deceit of the snake and I took it. 14 And the Lord God said to the snake, Because you have done this you are cursed more than all cattle and every beast of the field; you will go flat on the earth, and dust will be your food all the days of your life: 15 And there will be war between you and the woman and between your seed and her seed: by him will your head be crushed and by you his foot will be wounded. 16 To the woman he said, Great will be your pain in childbirth; in sorrow will your children come to birth; still your desire will be for your husband, but he will be your master. 17 And to Adam he said, Because you gave ear to the voice of your wife and took of the fruit of the tree which I said you were not to take, the earth is cursed on your account; in pain you will get your food from it all your life. 18 Thorns and waste plants will come up, and the plants of the field will be your food; 19 With the hard work of your hands you will get your bread till you go back to the earth from which you were taken: for dust you are and to the dust you will go back. 20 And the man gave his wife the name of Eve because she was the mother of all who have life. 21 And the Lord God made for Adam and for his wife coats of skins for their clothing. 22 And the Lord God said, Now the man has become like one of us, having knowledge of good and evil; and now if he puts out his hand and takes of the fruit of the tree of life, he will go on living for ever. 23 So the Lord God sent him out of the garden of Eden to be a worker on the earth from which he was taken. 24 So he sent the man out; and at the east of the garden of Eden he put winged ones and a flaming sword turning every way to keep the way to the tree of life.'"
      ]
     },
     "execution_count": 4,
     "metadata": {},
     "output_type": "execute_result"
    }
   ],
   "source": [
    "text"
   ]
  },
  {
   "cell_type": "code",
   "execution_count": 5,
   "metadata": {},
   "outputs": [],
   "source": [
    "def get_verses(book, chapter, verse_range):\n",
    "    \n",
    "    text = str()\n",
    "    \n",
    "    site= \"https://www.biblestudytools.com/bbe/{}/\".format(book.lower()) + \"{}.html\".format(chapter)\n",
    "    hdr = {'User-Agent': 'Mozilla/5.0'}\n",
    "    req = Request(site,headers=hdr)\n",
    "    page = urlopen(req)\n",
    "    soup = BeautifulSoup(page)\n",
    "    print(site)\n",
    "    \n",
    "    for v in range(verse_range[0], verse_range[1]):\n",
    "        \n",
    "        verse = soup.findAll('span', {\"class\": \"verse-{}\".format(v)})\n",
    "        \n",
    "        for div in verse:\n",
    "            if len(text) == 0:\n",
    "                text += str(div.text).strip()\n",
    "            else:\n",
    "                text += ' ' + str(div.text).strip()\n",
    "    \n",
    "            text = text.replace('\\n\\r\\n', '')\n",
    "    \n",
    "    for n in range(1, 6):\n",
    "        text = text.replace('  ', ' ')\n",
    "        \n",
    "    return text"
   ]
  },
  {
   "cell_type": "code",
   "execution_count": 6,
   "metadata": {},
   "outputs": [
    {
     "name": "stdout",
     "output_type": "stream",
     "text": [
      "https://www.biblestudytools.com/bbe/exodus/20.html\n"
     ]
    }
   ],
   "source": [
    "#Exodus chapter 20, verses 1-17\n",
    "text = get_verses('exodus', 20, [1,18])"
   ]
  },
  {
   "cell_type": "code",
   "execution_count": 7,
   "metadata": {},
   "outputs": [
    {
     "data": {
      "text/plain": [
       "\"And God said all these words: I am the Lord your God who took you out of the land of Egypt, out of the prison-house. You are to have no other gods but me. You are not to make an image or picture of anything in heaven or on the earth or in the waters under the earth: You may not go down on your faces before them or give them worship: for I, the Lord your God, am a God who will not give his honour to another; and I will send punishment on the children for the wrongdoing of their fathers, to the third and fourth generation of my haters; And I will have mercy through a thousand generations on those who have love for me and keep my laws. You are not to make use of the name of the Lord your God for an evil purpose; whoever takes the Lord's name on his lips for an evil purpose will be judged a sinner by the Lord Keep in memory the Sabbath and let it be a holy day. On six days do all your work: But the seventh day is a Sabbath to the Lord your God; on that day you are to do no work, you or your son or your daughter, your man-servant or your woman-servant, your cattle or the man from a strange country who is living among you: For in six days the Lord made heaven and earth, and the sea, and everything in them, and he took his rest on the seventh day: for this reason the Lord has given his blessing to the seventh day and made it holy. Give honour to your father and to your mother, so that your life may be long in the land which the Lord your God is giving you. Do not put anyone to death without cause. Do not be false to the married relation. Do not take the property of another. Do not give false witness against your neighbour. Let not your desire be turned to your neighbour's house, or his wife or his man-servant or his woman-servant or his ox or his ass or anything which is his.\""
      ]
     },
     "execution_count": 7,
     "metadata": {},
     "output_type": "execute_result"
    }
   ],
   "source": [
    "text"
   ]
  }
 ],
 "metadata": {
  "kernelspec": {
   "display_name": "Python 3",
   "language": "python",
   "name": "python3"
  },
  "language_info": {
   "codemirror_mode": {
    "name": "ipython",
    "version": 3
   },
   "file_extension": ".py",
   "mimetype": "text/x-python",
   "name": "python",
   "nbconvert_exporter": "python",
   "pygments_lexer": "ipython3",
   "version": "3.8.5"
  }
 },
 "nbformat": 4,
 "nbformat_minor": 4
}
